{
 "cells": [
  {
   "cell_type": "code",
   "execution_count": 12,
   "metadata": {},
   "outputs": [
    {
     "name": "stdout",
     "output_type": "stream",
     "text": [
      "Not BRI)\n"
     ]
    }
   ],
   "source": [
    "test='Germany (Not BRI)'\n",
    "test=test.split()\n",
    "print (test[0].strip())"
   ]
  },
  {
   "cell_type": "markdown",
   "metadata": {},
   "source": [
    "# First example"
   ]
  },
  {
   "cell_type": "code",
   "execution_count": 14,
   "metadata": {},
   "outputs": [],
   "source": [
    "import pandas "
   ]
  },
  {
   "cell_type": "markdown",
   "metadata": {},
   "source": [
    "# import Excel"
   ]
  },
  {
   "cell_type": "code",
   "execution_count": 18,
   "metadata": {},
   "outputs": [],
   "source": [
    "df = pandas.read_excel('/Users/dorianjodelet/Desktop/UTSEUS/Data_Science/Data-sheet-STUDENTS.xlsx',header=2,usecols='B:AR')"
   ]
  },
  {
   "cell_type": "code",
   "execution_count": 31,
   "metadata": {},
   "outputs": [
    {
     "name": "stdout",
     "output_type": "stream",
     "text": [
      "Afghanistan\n",
      "Albania\n",
      "Armenia\n",
      "Azerbaijan\n",
      "Bahrain\n",
      "Bangladesh\n",
      "Belarus\n",
      "Bhutan\n",
      "Bosnia and Herzegovina\n",
      "Brunei\n",
      "Bulgaria\n",
      "Cambodia\n",
      "China\n",
      "Croatia\n",
      "Czech Republic\n",
      "East Timor\n",
      "Egypt\n",
      "Estonia\n",
      "France\n",
      "Georgia\n",
      "Germany\n",
      "Hungary\n",
      "India\n",
      "Indonesia\n",
      "Iran\n",
      "Iraq\n",
      "Israel\n",
      "Jordan\n",
      "Kazakhstan\n",
      "Kuwait\n",
      "Kyrgyzstan\n",
      "Laos\n",
      "Latvia\n",
      "Lebanon\n",
      "Lithuania\n",
      "Macedonia\n",
      "Malaysia\n",
      "Maldives\n",
      "Moldova\n",
      "Mongolia\n",
      "Montenegro\n",
      "Myanmar\n",
      "Nepal\n",
      "Oman\n",
      "Pakistan\n",
      "Philippines\n",
      "Poland\n",
      "Qatar\n",
      "Romania\n",
      "Russia\n",
      "Saudi Arabia\n",
      "Serbia\n",
      "Singapore\n",
      "Slovakia\n",
      "Slovenia\n",
      "Sri Lanka\n",
      "Syria\n",
      "Tajikistan\n",
      "Thailiand\n",
      "The United Arab Emirates\n",
      "Turkey\n",
      "Turkmenistan\n",
      "United Kingdom\n",
      "United States of America\n",
      "Ukraine\n",
      "Uzbekistan\n",
      "Vietnam\n",
      "Yemen\n"
     ]
    }
   ],
   "source": [
    "for i in df['Country (according to CN Gov):']:\n",
    "    print(i.split('(')[0].strip())\n",
    "   \n",
    "\n"
   ]
  },
  {
   "cell_type": "markdown",
   "metadata": {},
   "source": [
    "# Request an API\n"
   ]
  },
  {
   "cell_type": "code",
   "execution_count": 39,
   "metadata": {},
   "outputs": [],
   "source": [
    "import requests"
   ]
  },
  {
   "cell_type": "code",
   "execution_count": 47,
   "metadata": {},
   "outputs": [
    {
     "name": "stdout",
     "output_type": "stream",
     "text": [
      "200\n",
      "data for China is None\n"
     ]
    }
   ],
   "source": [
    "url = 'http://api.worldbank.org/v2/country/CHN/indicator/GC.TAX.IMPT.ZS?format=json'\n",
    "r = requests.get(url)\n",
    "print(r.status_code)\n",
    "data = r.json()\n",
    "print('data for',data[1][1]['country']['value'],'is',data[1][1]['value'])\n"
   ]
  },
  {
   "cell_type": "code",
   "execution_count": 48,
   "metadata": {},
   "outputs": [
    {
     "name": "stdout",
     "output_type": "stream",
     "text": [
      "2016 3.89434134127694\n"
     ]
    }
   ],
   "source": [
    "for i in data[1]:\n",
    "    if i['value'] is None:\n",
    "        continue\n",
    "    else:\n",
    "        print (i['date'],i['value'])\n",
    "        break"
   ]
  },
  {
   "cell_type": "code",
   "execution_count": 50,
   "metadata": {},
   "outputs": [
    {
     "name": "stdout",
     "output_type": "stream",
     "text": [
      "France FRA\n"
     ]
    }
   ],
   "source": [
    "country_name ='France'\n",
    "url = 'https://restcountries.eu/rest/v2/name/' + country_name\n",
    "r = requests.get(url)\n",
    "data = r.json()\n",
    "print(country_name,data[0]['alpha3Code'])"
   ]
  },
  {
   "cell_type": "code",
   "execution_count": null,
   "metadata": {},
   "outputs": [],
   "source": []
  }
 ],
 "metadata": {
  "kernelspec": {
   "display_name": "Python 3",
   "language": "python",
   "name": "python3"
  },
  "language_info": {
   "codemirror_mode": {
    "name": "ipython",
    "version": 3
   },
   "file_extension": ".py",
   "mimetype": "text/x-python",
   "name": "python",
   "nbconvert_exporter": "python",
   "pygments_lexer": "ipython3",
   "version": "3.7.0"
  }
 },
 "nbformat": 4,
 "nbformat_minor": 2
}
