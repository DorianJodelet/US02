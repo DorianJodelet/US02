{
 "cells": [
  {
   "cell_type": "code",
   "execution_count": 1,
   "metadata": {},
   "outputs": [],
   "source": [
    "import requests"
   ]
  },
  {
   "cell_type": "code",
   "execution_count": 2,
   "metadata": {},
   "outputs": [],
   "source": [
    "url = 'https://awoiaf.westeros.org/index.php/List_of_characters'\n",
    "r = requests.get(url)"
   ]
  },
  {
   "cell_type": "code",
   "execution_count": 7,
   "metadata": {},
   "outputs": [],
   "source": [
    "from bs4 import BeautifulSoup\n",
    "\n",
    "soup=BeautifulSoup(r.text,'html5lib')"
   ]
  },
  {
   "cell_type": "code",
   "execution_count": 17,
   "metadata": {},
   "outputs": [
    {
     "data": {
      "text/plain": [
       "'/index.php/Zollo'"
      ]
     },
     "execution_count": 17,
     "metadata": {},
     "output_type": "execute_result"
    }
   ],
   "source": [
    "href=[]\n",
    "links=soup.select('li > a:nth-of-type(1)')\n",
    "for link in links:\n",
    "    if 'title' in link.attrs and 'href' in link.attrs:\n",
    "        if len(link.attrs)==2:\n",
    "            href.append(link['href'])\n",
    "        elif len(link.attrs)==3 and 'class' in link.attrs:\n",
    "            href.append(link['href'])\n",
    "href=href[:-4]\n"
   ]
  },
  {
   "cell_type": "code",
   "execution_count": null,
   "metadata": {},
   "outputs": [],
   "source": [
    "#robot_crawler={}\n",
    "#for h in href:\n",
    "    #name= h.split('/')[-1]\n",
    "    #robot_crawler[name]=None \n",
    "    #ne jamais le remettre à zéro"
   ]
  },
  {
   "cell_type": "code",
   "execution_count": 29,
   "metadata": {},
   "outputs": [],
   "source": [
    "import random\n",
    "import time\n",
    "for name,status in robot_crawler.items():\n",
    "    if status is None:\n",
    "        r=requests.get('https://awoiaf.westeros.org/index.php/'+name)\n",
    "        r = requests.get(url)\n",
    "        with open ('AWOIF/'+name+'.html','w+')as fp:\n",
    "            fp.write(r.text)\n",
    "        robot_crawler[name]='done'\n",
    "        #time.sleep(random.uniform(0.5,2.0))\n",
    "        "
   ]
  },
  {
   "cell_type": "code",
   "execution_count": null,
   "metadata": {},
   "outputs": [],
   "source": []
  }
 ],
 "metadata": {
  "kernelspec": {
   "display_name": "Python 3",
   "language": "python",
   "name": "python3"
  },
  "language_info": {
   "codemirror_mode": {
    "name": "ipython",
    "version": 3
   },
   "file_extension": ".py",
   "mimetype": "text/x-python",
   "name": "python",
   "nbconvert_exporter": "python",
   "pygments_lexer": "ipython3",
   "version": "3.7.2"
  }
 },
 "nbformat": 4,
 "nbformat_minor": 2
}
