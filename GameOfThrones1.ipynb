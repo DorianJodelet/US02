{
 "cells": [
  {
   "cell_type": "code",
   "execution_count": 32,
   "metadata": {},
   "outputs": [
    {
     "name": "stdout",
     "output_type": "stream",
     "text": [
      "1 PROLOGUE\n",
      "2 BRAN\n",
      "3 CATELYN\n",
      "4 DAENERYS\n",
      "5 EDDARD\n",
      "6 JON\n",
      "7 CATELYN\n",
      "8 ARYA\n",
      "9 BRAN\n",
      "10 TYRION\n",
      "11 JON\n",
      "12 DAENERYS\n",
      "13 EDDARD\n",
      "14 TYRION\n",
      "15 CATELYN\n",
      "16 SANSA\n",
      "17 EDDARD\n",
      "18 BRAN\n",
      "19 CATELYN\n",
      "20 JON\n",
      "21 EDDARD\n",
      "22 TYRION\n",
      "23 ARYA\n",
      "24 DAENERYS\n",
      "25 BRAN\n",
      "26 EDDARD\n",
      "27 JON\n",
      "28 EDDARD\n",
      "29 CATELYN\n",
      "30 SANSA\n",
      "31 EDDARD\n",
      "32 TYRION\n",
      "33 ARYA\n",
      "34 EDDARD\n",
      "35 CATELYN\n",
      "36 EDDARD\n",
      "37 DAENERYS\n",
      "38 BRAN\n",
      "39 TYRION\n",
      "40 EDDARD\n",
      "41 CATELYN\n",
      "42 JON\n",
      "43 TYRION\n",
      "44 EDDARD\n",
      "45 SANSA\n",
      "46 EDDARD\n",
      "47 DAENERYS\n",
      "48 EDDARD\n",
      "49 JON\n",
      "50 EDDARD\n",
      "51 ARYA\n",
      "52 SANSA\n",
      "53 JON\n",
      "54 BRAN\n",
      "55 DAENERYS\n",
      "56 CATELYN\n",
      "57 TYRION\n",
      "58 SANSA\n",
      "59 EDDARD\n",
      "60 CATELYN\n",
      "61 JON\n",
      "62 DAENERYS\n",
      "63 TYRION\n",
      "64 CATELYN\n",
      "65 DAENERYS\n",
      "66 ARYA\n",
      "67 BRAN\n",
      "68 SANSA\n",
      "69 DAENERYS\n",
      "70 TYRION\n",
      "71 JON\n",
      "72 CATELYN\n",
      "73 DAENERYS\n"
     ]
    }
   ],
   "source": [
    "with open ('GOT1.txt','r') as fp:\n",
    "    book = fp.read()\n",
    "    chapter = book.split('\\n\\n\\n\\n\\n')\n",
    "    for i in range (0,len(chapter)):\n",
    "        name = [word for word in chapter[i].split('\\n') if len(word.strip())>0][0]\n",
    "        print (i+1,name)\n",
    "        \n",
    "            "
   ]
  },
  {
   "cell_type": "code",
   "execution_count": null,
   "metadata": {},
   "outputs": [],
   "source": []
  }
 ],
 "metadata": {
  "kernelspec": {
   "display_name": "Python 3",
   "language": "python",
   "name": "python3"
  },
  "language_info": {
   "codemirror_mode": {
    "name": "ipython",
    "version": 3
   },
   "file_extension": ".py",
   "mimetype": "text/x-python",
   "name": "python",
   "nbconvert_exporter": "python",
   "pygments_lexer": "ipython3",
   "version": "3.7.0"
  }
 },
 "nbformat": 4,
 "nbformat_minor": 2
}
