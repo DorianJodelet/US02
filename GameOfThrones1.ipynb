{
 "cells": [
  {
   "cell_type": "code",
   "execution_count": 4,
   "metadata": {},
   "outputs": [],
   "source": [
    "import spacy\n",
    "\n",
    "import en_core_web_sm\n",
    "nlp = spacy.load(\"en_core_web_sm\")"
   ]
  },
  {
   "cell_type": "code",
   "execution_count": 5,
   "metadata": {},
   "outputs": [
    {
     "name": "stdout",
     "output_type": "stream",
     "text": [
      "1 Prologue\n",
      "2 Bran\n",
      "3 Catelyn\n",
      "4 Daenerys\n",
      "5 Eddard\n",
      "6 Jon\n",
      "7 Catelyn\n",
      "8 Arya\n",
      "9 Bran\n",
      "10 Tyrion\n",
      "11 Jon\n",
      "12 Daenerys\n",
      "13 Eddard\n",
      "14 Tyrion\n",
      "15 Catelyn\n",
      "16 Sansa\n",
      "17 Eddard\n",
      "18 Bran\n",
      "19 Catelyn\n",
      "20 Jon\n",
      "21 Eddard\n",
      "22 Tyrion\n",
      "23 Arya\n",
      "24 Daenerys\n",
      "25 Bran\n",
      "26 Eddard\n",
      "27 Jon\n",
      "28 Eddard\n",
      "29 Catelyn\n",
      "30 Sansa\n",
      "31 Eddard\n",
      "32 Tyrion\n",
      "33 Arya\n",
      "34 Eddard\n",
      "35 Catelyn\n",
      "36 Eddard\n",
      "37 Daenerys\n",
      "38 Bran\n",
      "39 Tyrion\n",
      "40 Eddard\n",
      "41 Catelyn\n",
      "42 Jon\n",
      "43 Tyrion\n",
      "44 Eddard\n",
      "45 Sansa\n",
      "46 Eddard\n",
      "47 Daenerys\n",
      "48 Eddard\n",
      "49 Jon\n",
      "50 Eddard\n",
      "51 Arya\n",
      "52 Sansa\n",
      "53 Jon\n",
      "54 Bran\n",
      "55 Daenerys\n",
      "56 Catelyn\n",
      "57 Tyrion\n",
      "58 Sansa\n",
      "59 Eddard\n",
      "60 Catelyn\n",
      "61 Jon\n",
      "62 Daenerys\n",
      "63 Tyrion\n",
      "64 Catelyn\n",
      "65 Daenerys\n",
      "66 Arya\n",
      "67 Bran\n",
      "68 Sansa\n",
      "69 Daenerys\n",
      "70 Tyrion\n",
      "71 Jon\n",
      "72 Catelyn\n",
      "73 Daenerys\n"
     ]
    }
   ],
   "source": [
    "##Open text with the first book\n",
    "##Chapters is a list which contains all the chapters ; we the .split() function which detect all times with 5 new line\n",
    "\n",
    "with open('GOT1.txt','r') as fp:\n",
    "    book = fp.read()\n",
    "    chapters = book.split('\\n\\n\\n\\n\\n')\n",
    "    sm = []\n",
    "    for i in range(0,len(chapters)):\n",
    "        name = [word for word in chapters[i].split('\\n') if len(word.strip())>0][0]\n",
    "        print (i+1,name.title())\n",
    "        chapter = ' '.join([word.replace('\\t','').replace('\"','') for word in chapters[i].split('\\n') if len(word.strip())>0][1:])\n",
    "                           \n",
    "        doc1 = nlp(chapter)\n",
    "        for ent in doc1.ents:\n",
    "            if ent.label_ == 'PERSON' :\n",
    "                sm.append((ent.text, ent.start_char, ent.end_char))"
   ]
  },
  {
   "cell_type": "code",
   "execution_count": null,
   "metadata": {},
   "outputs": [],
   "source": []
  }
 ],
 "metadata": {
  "kernelspec": {
   "display_name": "Python 3",
   "language": "python",
   "name": "python3"
  },
  "language_info": {
   "codemirror_mode": {
    "name": "ipython",
    "version": 3
   },
   "file_extension": ".py",
   "mimetype": "text/x-python",
   "name": "python",
   "nbconvert_exporter": "python",
   "pygments_lexer": "ipython3",
   "version": "3.7.2"
  }
 },
 "nbformat": 4,
 "nbformat_minor": 2
}
