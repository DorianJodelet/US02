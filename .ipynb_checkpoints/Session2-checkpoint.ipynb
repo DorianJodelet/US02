{
 "cells": [
  {
   "cell_type": "code",
   "execution_count": 12,
   "metadata": {},
   "outputs": [
    {
     "name": "stdout",
     "output_type": "stream",
     "text": [
      "Not BRI)\n"
     ]
    }
   ],
   "source": [
    "test='Germany (Not BRI)'\n",
    "test=test.split()\n",
    "print (test[0].strip())\n"
   ]
  },
  {
   "cell_type": "markdown",
   "metadata": {},
   "source": [
    "# First example"
   ]
  },
  {
   "cell_type": "code",
   "execution_count": 36,
   "metadata": {},
   "outputs": [],
   "source": [
    "import pandas \n",
    "import time\n",
    "import random"
   ]
  },
  {
   "cell_type": "markdown",
   "metadata": {},
   "source": [
    "# import Excel"
   ]
  },
  {
   "cell_type": "code",
   "execution_count": 37,
   "metadata": {},
   "outputs": [],
   "source": [
    "df = pandas.read_excel('/Users/dorianjodelet/Desktop/UTSEUS/Data_Science/Data-sheet-STUDENTS.xlsx',header=2,usecols='B:AR')"
   ]
  },
  {
   "cell_type": "code",
   "execution_count": 38,
   "metadata": {},
   "outputs": [
    {
     "data": {
      "text/plain": [
       "'DEU'"
      ]
     },
     "execution_count": 38,
     "metadata": {},
     "output_type": "execute_result"
    }
   ],
   "source": [
    "def initiale (Country):\n",
    "    try :\n",
    "        url = 'https://restcountries.eu/rest/v2/name/' + Country\n",
    "        r = requests.get(url)\n",
    "        data = r.json()\n",
    "        return (data[0]['alpha3Code'])\n",
    "    except KeyError:\n",
    "        print('[ERROR] cannot get code for',Country)\n",
    "        return None\n",
    "        \n",
    "initiale('Germany')"
   ]
  },
  {
   "cell_type": "code",
   "execution_count": 39,
   "metadata": {},
   "outputs": [],
   "source": [
    "countries={}"
   ]
  },
  {
   "cell_type": "code",
   "execution_count": 43,
   "metadata": {},
   "outputs": [
    {
     "name": "stdout",
     "output_type": "stream",
     "text": [
      "Brunei BRN\n",
      "Bulgaria BGR\n",
      "Cambodia KHM\n",
      "China CHN\n",
      "Croatia HRV\n",
      "Czech Republic CZE\n",
      "East Timor TLS\n",
      "Egypt EGY\n",
      "Estonia EST\n",
      "France FRA\n",
      "Georgia GEO\n",
      "Germany DEU\n",
      "Hungary HUN\n",
      "India IOT\n",
      "Indonesia IDN\n",
      "Iran IRN\n",
      "Iraq IRQ\n",
      "Israel ISR\n",
      "Jordan JOR\n",
      "Kazakhstan KAZ\n",
      "Kuwait KWT\n",
      "Kyrgyzstan KGZ\n",
      "Laos LAO\n",
      "Latvia LVA\n",
      "Lebanon LBN\n",
      "Lithuania LTU\n",
      "Macedonia MKD\n",
      "Malaysia MYS\n",
      "Maldives MDV\n",
      "Moldova MDA\n",
      "Mongolia MNG\n",
      "Montenegro MNE\n",
      "Myanmar MMR\n",
      "Nepal NPL\n",
      "Oman OMN\n",
      "Pakistan PAK\n",
      "Philippines PHL\n",
      "Poland POL\n",
      "Qatar QAT\n",
      "Romania ROU\n",
      "Russia RUS\n",
      "Saudi Arabia SAU\n",
      "Serbia SRB\n",
      "Singapore SGP\n",
      "Slovakia SVK\n",
      "Slovenia SVN\n",
      "Sri Lanka LKA\n",
      "Syria SYR\n",
      "Tajikistan TJK\n",
      "[ERROR] cannot get code for Thailiand\n",
      "[ERROR] cannot get code for The United Arab Emirates\n",
      "Turkey TUR\n",
      "Turkmenistan TKM\n",
      "United Kingdom GBR\n",
      "United States of America USA\n",
      "Ukraine UKR\n",
      "Uzbekistan UZB\n",
      "Vietnam VNM\n",
      "Yemen YEM\n"
     ]
    }
   ],
   "source": [
    "for i,v in df['Country (according to CN Gov):'].iteritems():\n",
    "    country_name = v.split('(')[0].strip()\n",
    "    if country_name not in countries.keys():\n",
    "        iso_code = initiale(country_name)\n",
    "        if iso_code is not None:\n",
    "            countries[country_name]=iso_code\n",
    "            print (country_name,iso_code)\n",
    "            time.sleep(0.5+random.random())\n",
    "            \n",
    "    \n",
    "   \n",
    "\n"
   ]
  },
  {
   "cell_type": "code",
   "execution_count": 44,
   "metadata": {},
   "outputs": [
    {
     "name": "stdout",
     "output_type": "stream",
     "text": [
      "{'Afghanistan': 'AFG', 'Albania': 'ALB', 'Armenia': 'ARM', 'Azerbaijan': 'AZE', 'Bahrain': 'BHR', 'Bangladesh': 'BGD', 'Belarus': 'BLR', 'Bhutan': 'BTN', 'Bosnia and Herzegovina': 'BIH', 'Brunei': 'BRN', 'Bulgaria': 'BGR', 'Cambodia': 'KHM', 'China': 'CHN', 'Croatia': 'HRV', 'Czech Republic': 'CZE', 'East Timor': 'TLS', 'Egypt': 'EGY', 'Estonia': 'EST', 'France': 'FRA', 'Georgia': 'GEO', 'Germany': 'DEU', 'Hungary': 'HUN', 'India': 'IOT', 'Indonesia': 'IDN', 'Iran': 'IRN', 'Iraq': 'IRQ', 'Israel': 'ISR', 'Jordan': 'JOR', 'Kazakhstan': 'KAZ', 'Kuwait': 'KWT', 'Kyrgyzstan': 'KGZ', 'Laos': 'LAO', 'Latvia': 'LVA', 'Lebanon': 'LBN', 'Lithuania': 'LTU', 'Macedonia': 'MKD', 'Malaysia': 'MYS', 'Maldives': 'MDV', 'Moldova': 'MDA', 'Mongolia': 'MNG', 'Montenegro': 'MNE', 'Myanmar': 'MMR', 'Nepal': 'NPL', 'Oman': 'OMN', 'Pakistan': 'PAK', 'Philippines': 'PHL', 'Poland': 'POL', 'Qatar': 'QAT', 'Romania': 'ROU', 'Russia': 'RUS', 'Saudi Arabia': 'SAU', 'Serbia': 'SRB', 'Singapore': 'SGP', 'Slovakia': 'SVK', 'Slovenia': 'SVN', 'Sri Lanka': 'LKA', 'Syria': 'SYR', 'Tajikistan': 'TJK', 'Turkey': 'TUR', 'Turkmenistan': 'TKM', 'United Kingdom': 'GBR', 'United States of America': 'USA', 'Ukraine': 'UKR', 'Uzbekistan': 'UZB', 'Vietnam': 'VNM', 'Yemen': 'YEM', 'Thailiand': 'THA', 'The United Arab Emirates': 'ARE'}\n"
     ]
    }
   ],
   "source": [
    "countries['Thailiand']='THA'\n",
    "countries['The United Arab Emirates']='ARE'\n",
    "print (countries)"
   ]
  },
  {
   "cell_type": "code",
   "execution_count": 45,
   "metadata": {},
   "outputs": [
    {
     "data": {
      "text/plain": [
       "True"
      ]
     },
     "execution_count": 45,
     "metadata": {},
     "output_type": "execute_result"
    }
   ],
   "source": [
    "len(countries.keys())==len(df['Country (according to CN Gov):'])"
   ]
  },
  {
   "cell_type": "code",
   "execution_count": 55,
   "metadata": {},
   "outputs": [],
   "source": [
    "import pickle\n",
    "with open ('countries.pickle','wb+') as fp:\n",
    "    pickle.dump(countries,fp)"
   ]
  },
  {
   "cell_type": "code",
   "execution_count": 56,
   "metadata": {},
   "outputs": [
    {
     "data": {
      "text/plain": [
       "{'Afghanistan': 'AFG',\n",
       " 'Albania': 'ALB',\n",
       " 'Armenia': 'ARM',\n",
       " 'Azerbaijan': 'AZE',\n",
       " 'Bahrain': 'BHR',\n",
       " 'Bangladesh': 'BGD',\n",
       " 'Belarus': 'BLR',\n",
       " 'Bhutan': 'BTN',\n",
       " 'Bosnia and Herzegovina': 'BIH',\n",
       " 'Brunei': 'BRN',\n",
       " 'Bulgaria': 'BGR',\n",
       " 'Cambodia': 'KHM',\n",
       " 'China': 'CHN',\n",
       " 'Croatia': 'HRV',\n",
       " 'Czech Republic': 'CZE',\n",
       " 'East Timor': 'TLS',\n",
       " 'Egypt': 'EGY',\n",
       " 'Estonia': 'EST',\n",
       " 'France': 'FRA',\n",
       " 'Georgia': 'GEO',\n",
       " 'Germany': 'DEU',\n",
       " 'Hungary': 'HUN',\n",
       " 'India': 'IOT',\n",
       " 'Indonesia': 'IDN',\n",
       " 'Iran': 'IRN',\n",
       " 'Iraq': 'IRQ',\n",
       " 'Israel': 'ISR',\n",
       " 'Jordan': 'JOR',\n",
       " 'Kazakhstan': 'KAZ',\n",
       " 'Kuwait': 'KWT',\n",
       " 'Kyrgyzstan': 'KGZ',\n",
       " 'Laos': 'LAO',\n",
       " 'Latvia': 'LVA',\n",
       " 'Lebanon': 'LBN',\n",
       " 'Lithuania': 'LTU',\n",
       " 'Macedonia': 'MKD',\n",
       " 'Malaysia': 'MYS',\n",
       " 'Maldives': 'MDV',\n",
       " 'Moldova': 'MDA',\n",
       " 'Mongolia': 'MNG',\n",
       " 'Montenegro': 'MNE',\n",
       " 'Myanmar': 'MMR',\n",
       " 'Nepal': 'NPL',\n",
       " 'Oman': 'OMN',\n",
       " 'Pakistan': 'PAK',\n",
       " 'Philippines': 'PHL',\n",
       " 'Poland': 'POL',\n",
       " 'Qatar': 'QAT',\n",
       " 'Romania': 'ROU',\n",
       " 'Russia': 'RUS',\n",
       " 'Saudi Arabia': 'SAU',\n",
       " 'Serbia': 'SRB',\n",
       " 'Singapore': 'SGP',\n",
       " 'Slovakia': 'SVK',\n",
       " 'Slovenia': 'SVN',\n",
       " 'Sri Lanka': 'LKA',\n",
       " 'Syria': 'SYR',\n",
       " 'Tajikistan': 'TJK',\n",
       " 'Turkey': 'TUR',\n",
       " 'Turkmenistan': 'TKM',\n",
       " 'United Kingdom': 'GBR',\n",
       " 'United States of America': 'USA',\n",
       " 'Ukraine': 'UKR',\n",
       " 'Uzbekistan': 'UZB',\n",
       " 'Vietnam': 'VNM',\n",
       " 'Yemen': 'YEM',\n",
       " 'Thailiand': 'THA',\n",
       " 'The United Arab Emirates': 'ARE'}"
      ]
     },
     "execution_count": 56,
     "metadata": {},
     "output_type": "execute_result"
    }
   ],
   "source": [
    "with open ('countries.pickle','rb') as fp:\n",
    "    test=pickle.load(fp)\n",
    "test"
   ]
  },
  {
   "cell_type": "markdown",
   "metadata": {},
   "source": [
    "# Request an API\n"
   ]
  },
  {
   "cell_type": "code",
   "execution_count": 4,
   "metadata": {},
   "outputs": [],
   "source": [
    "import requests"
   ]
  },
  {
   "cell_type": "code",
   "execution_count": 5,
   "metadata": {},
   "outputs": [
    {
     "name": "stdout",
     "output_type": "stream",
     "text": [
      "200\n",
      "data for China is None\n"
     ]
    }
   ],
   "source": [
    "url = 'http://api.worldbank.org/v2/country/CHN/indicator/GC.TAX.IMPT.ZS?format=json'\n",
    "r = requests.get(url)\n",
    "print(r.status_code)\n",
    "data = r.json()\n",
    "print('data for',data[1][1]['country']['value'],'is',data[1][1]['value'])\n"
   ]
  },
  {
   "cell_type": "code",
   "execution_count": 6,
   "metadata": {},
   "outputs": [
    {
     "name": "stdout",
     "output_type": "stream",
     "text": [
      "2016 3.89434134127694\n"
     ]
    }
   ],
   "source": [
    "for i in data[1]:\n",
    "    if i['value'] is None:\n",
    "        continue\n",
    "    else:\n",
    "        print (i['date'],i['value'])\n",
    "        break"
   ]
  },
  {
   "cell_type": "code",
   "execution_count": 7,
   "metadata": {},
   "outputs": [
    {
     "name": "stdout",
     "output_type": "stream",
     "text": [
      "France FRA\n"
     ]
    }
   ],
   "source": [
    "country_name ='France'\n",
    "url = 'https://restcountries.eu/rest/v2/name/' + country_name\n",
    "r = requests.get(url)\n",
    "data = r.json()\n",
    "print(country_name,data[0]['alpha3Code'])"
   ]
  },
  {
   "cell_type": "code",
   "execution_count": null,
   "metadata": {},
   "outputs": [],
   "source": []
  },
  {
   "cell_type": "code",
   "execution_count": null,
   "metadata": {},
   "outputs": [],
   "source": []
  }
 ],
 "metadata": {
  "kernelspec": {
   "display_name": "Python 3",
   "language": "python",
   "name": "python3"
  },
  "language_info": {
   "codemirror_mode": {
    "name": "ipython",
    "version": 3
   },
   "file_extension": ".py",
   "mimetype": "text/x-python",
   "name": "python",
   "nbconvert_exporter": "python",
   "pygments_lexer": "ipython3",
   "version": "3.7.0"
  }
 },
 "nbformat": 4,
 "nbformat_minor": 2
}
